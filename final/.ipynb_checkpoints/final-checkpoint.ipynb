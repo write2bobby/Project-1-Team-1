{
 "cells": [
  {
   "cell_type": "code",
   "execution_count": 27,
   "metadata": {},
   "outputs": [
    {
     "data": {
      "text/html": [
       "<div>\n",
       "<style scoped>\n",
       "    .dataframe tbody tr th:only-of-type {\n",
       "        vertical-align: middle;\n",
       "    }\n",
       "\n",
       "    .dataframe tbody tr th {\n",
       "        vertical-align: top;\n",
       "    }\n",
       "\n",
       "    .dataframe thead th {\n",
       "        text-align: right;\n",
       "    }\n",
       "</style>\n",
       "<table border=\"1\" class=\"dataframe\">\n",
       "  <thead>\n",
       "    <tr style=\"text-align: right;\">\n",
       "      <th></th>\n",
       "      <th>Date</th>\n",
       "      <th>National Net Migration</th>\n",
       "    </tr>\n",
       "  </thead>\n",
       "  <tbody>\n",
       "    <tr>\n",
       "      <th>50</th>\n",
       "      <td>1996</td>\n",
       "      <td>166553</td>\n",
       "    </tr>\n",
       "    <tr>\n",
       "      <th>51</th>\n",
       "      <td>1997</td>\n",
       "      <td>154022</td>\n",
       "    </tr>\n",
       "    <tr>\n",
       "      <th>52</th>\n",
       "      <td>1998</td>\n",
       "      <td>117263</td>\n",
       "    </tr>\n",
       "    <tr>\n",
       "      <th>53</th>\n",
       "      <td>1999</td>\n",
       "      <td>158015</td>\n",
       "    </tr>\n",
       "    <tr>\n",
       "      <th>54</th>\n",
       "      <td>2000</td>\n",
       "      <td>198753</td>\n",
       "    </tr>\n",
       "    <tr>\n",
       "      <th>55</th>\n",
       "      <td>2001</td>\n",
       "      <td>241733</td>\n",
       "    </tr>\n",
       "    <tr>\n",
       "      <th>56</th>\n",
       "      <td>2002</td>\n",
       "      <td>212505</td>\n",
       "    </tr>\n",
       "    <tr>\n",
       "      <th>57</th>\n",
       "      <td>2003</td>\n",
       "      <td>195200</td>\n",
       "    </tr>\n",
       "  </tbody>\n",
       "</table>\n",
       "</div>"
      ],
      "text/plain": [
       "    Date  National Net Migration\n",
       "50  1996                  166553\n",
       "51  1997                  154022\n",
       "52  1998                  117263\n",
       "53  1999                  158015\n",
       "54  2000                  198753\n",
       "55  2001                  241733\n",
       "56  2002                  212505\n",
       "57  2003                  195200"
      ]
     },
     "execution_count": 27,
     "metadata": {},
     "output_type": "execute_result"
    }
   ],
   "source": [
    "import pandas as pd\n",
    "import numpy as np\n",
    "import scipy.stats as stats\n",
    "import matplotlib.pyplot as plt\n",
    "\n",
    "df = pd.read_csv(\"unemploymentdata15to24.csv\")\n",
    "df.head()\n",
    "df_mig = pd.read_csv(\"newnationalmigration_clean.csv\")\n",
    "df_mig.head()\n",
    "\n",
    "df_mig_small = df_mig.loc[(df_mig[\"Date\"] == 1996) | \n",
    "                          (df_mig[\"Date\"] == 1997) |\n",
    "                          (df_mig[\"Date\"] == 1998) |\n",
    "                          (df_mig[\"Date\"] == 1999) |\n",
    "                          (df_mig[\"Date\"] == 2000) |\n",
    "                          (df_mig[\"Date\"] == 2001) |\n",
    "                          (df_mig[\"Date\"] == 2002) |\n",
    "                          (df_mig[\"Date\"] == 2003)]\n",
    "df_mig_small"
   ]
  },
  {
   "cell_type": "code",
   "execution_count": 13,
   "metadata": {},
   "outputs": [
    {
     "data": {
      "text/html": [
       "<div>\n",
       "<style scoped>\n",
       "    .dataframe tbody tr th:only-of-type {\n",
       "        vertical-align: middle;\n",
       "    }\n",
       "\n",
       "    .dataframe tbody tr th {\n",
       "        vertical-align: top;\n",
       "    }\n",
       "\n",
       "    .dataframe thead th {\n",
       "        text-align: right;\n",
       "    }\n",
       "</style>\n",
       "<table border=\"1\" class=\"dataframe\">\n",
       "  <thead>\n",
       "    <tr style=\"text-align: right;\">\n",
       "      <th></th>\n",
       "      <th>Date</th>\n",
       "      <th>Province</th>\n",
       "      <th>Unemployment Rate</th>\n",
       "    </tr>\n",
       "  </thead>\n",
       "  <tbody>\n",
       "    <tr>\n",
       "      <th>1</th>\n",
       "      <td>1996</td>\n",
       "      <td>Canada</td>\n",
       "      <td>15.3</td>\n",
       "    </tr>\n",
       "    <tr>\n",
       "      <th>3</th>\n",
       "      <td>1996</td>\n",
       "      <td>Newfoundland and Labrador</td>\n",
       "      <td>28.0</td>\n",
       "    </tr>\n",
       "    <tr>\n",
       "      <th>5</th>\n",
       "      <td>1996</td>\n",
       "      <td>Health and Community Services St. John's Regio...</td>\n",
       "      <td>21.2</td>\n",
       "    </tr>\n",
       "    <tr>\n",
       "      <th>7</th>\n",
       "      <td>1996</td>\n",
       "      <td>Health and Community Services Eastern Region, ...</td>\n",
       "      <td>32.5</td>\n",
       "    </tr>\n",
       "    <tr>\n",
       "      <th>9</th>\n",
       "      <td>1996</td>\n",
       "      <td>Health and Community Services Central Region, ...</td>\n",
       "      <td>33.6</td>\n",
       "    </tr>\n",
       "  </tbody>\n",
       "</table>\n",
       "</div>"
      ],
      "text/plain": [
       "   Date                                           Province  Unemployment Rate\n",
       "1  1996                                             Canada               15.3\n",
       "3  1996                          Newfoundland and Labrador               28.0\n",
       "5  1996  Health and Community Services St. John's Regio...               21.2\n",
       "7  1996  Health and Community Services Eastern Region, ...               32.5\n",
       "9  1996  Health and Community Services Central Region, ...               33.6"
      ]
     },
     "execution_count": 13,
     "metadata": {},
     "output_type": "execute_result"
    }
   ],
   "source": [
    "unemployment_15= df.loc[df[\"Unemployment rate\"]== \"Unemployment rate, 15 to 24 years\"]\n",
    "date= unemployment_15[\"REF_DATE\"]\n",
    "province = unemployment_15[\"GEO\"]\n",
    "unemployment_rate = unemployment_15[\"VALUE\"]\n",
    "new_df = pd.DataFrame ({\"Date\": date, \"Province\":province, \"Unemployment Rate\":unemployment_rate })\n",
    "new_df.head()"
   ]
  },
  {
   "cell_type": "code",
   "execution_count": 3,
   "metadata": {},
   "outputs": [
    {
     "data": {
      "image/png": "[encoded data removed]",
      "text/plain": [
       "<Figure size 432x288 with 1 Axes>"
      ]
     },
     "metadata": {
      "needs_background": "light"
     },
     "output_type": "display_data"
    }
   ],
   "source": [
    "plt.bar(new_df['Province'],new_df['Unemployment Rate'])\n",
    "plt.show()"
   ]
  },
  {
   "cell_type": "code",
   "execution_count": 4,
   "metadata": {},
   "outputs": [
    {
     "data": {
      "text/html": [
       "<div>\n",
       "<style scoped>\n",
       "    .dataframe tbody tr th:only-of-type {\n",
       "        vertical-align: middle;\n",
       "    }\n",
       "\n",
       "    .dataframe tbody tr th {\n",
       "        vertical-align: top;\n",
       "    }\n",
       "\n",
       "    .dataframe thead th {\n",
       "        text-align: right;\n",
       "    }\n",
       "</style>\n",
       "<table border=\"1\" class=\"dataframe\">\n",
       "  <thead>\n",
       "    <tr style=\"text-align: right;\">\n",
       "      <th></th>\n",
       "      <th>Date</th>\n",
       "      <th>Province</th>\n",
       "      <th>Unemployment Rate</th>\n",
       "    </tr>\n",
       "  </thead>\n",
       "  <tbody>\n",
       "    <tr>\n",
       "      <th>0</th>\n",
       "      <td>1996</td>\n",
       "      <td>Canada</td>\n",
       "      <td>9.6</td>\n",
       "    </tr>\n",
       "    <tr>\n",
       "      <th>2</th>\n",
       "      <td>1996</td>\n",
       "      <td>Newfoundland and Labrador</td>\n",
       "      <td>19.3</td>\n",
       "    </tr>\n",
       "    <tr>\n",
       "      <th>4</th>\n",
       "      <td>1996</td>\n",
       "      <td>Health and Community Services St. John's Regio...</td>\n",
       "      <td>14.4</td>\n",
       "    </tr>\n",
       "    <tr>\n",
       "      <th>6</th>\n",
       "      <td>1996</td>\n",
       "      <td>Health and Community Services Eastern Region, ...</td>\n",
       "      <td>24.0</td>\n",
       "    </tr>\n",
       "    <tr>\n",
       "      <th>8</th>\n",
       "      <td>1996</td>\n",
       "      <td>Health and Community Services Central Region, ...</td>\n",
       "      <td>21.4</td>\n",
       "    </tr>\n",
       "  </tbody>\n",
       "</table>\n",
       "</div>"
      ],
      "text/plain": [
       "   Date                                           Province  Unemployment Rate\n",
       "0  1996                                             Canada                9.6\n",
       "2  1996                          Newfoundland and Labrador               19.3\n",
       "4  1996  Health and Community Services St. John's Regio...               14.4\n",
       "6  1996  Health and Community Services Eastern Region, ...               24.0\n",
       "8  1996  Health and Community Services Central Region, ...               21.4"
      ]
     },
     "execution_count": 4,
     "metadata": {},
     "output_type": "execute_result"
    }
   ],
   "source": [
    "unemployment_15_2_24= df.loc[df[\"Unemployment rate\"]== \"Unemployment rate, 15 years and over\"]\n",
    "date= unemployment_15_2_24[\"REF_DATE\"]\n",
    "province = unemployment_15_2_24[\"GEO\"]\n",
    "unemployment_rate = unemployment_15_2_24[\"VALUE\"]\n",
    "\n",
    "new_df_2 = pd.DataFrame ({\"Date\": date, \"Province\":province, \"Unemployment Rate\":unemployment_rate })\n",
    "new_df_2.head()"
   ]
  },
  {
   "cell_type": "code",
   "execution_count": 5,
   "metadata": {},
   "outputs": [
    {
     "data": {
      "text/plain": [
       "Date                   int64\n",
       "Province              object\n",
       "Unemployment Rate    float64\n",
       "dtype: object"
      ]
     },
     "execution_count": 5,
     "metadata": {},
     "output_type": "execute_result"
    }
   ],
   "source": [
    "unemployment_15= df.loc[df[\"GEO\"]== \"Canada\"]\n",
    "date= unemployment_15[\"REF_DATE\"]\n",
    "province = unemployment_15[\"GEO\"]\n",
    "unemployment_rate = unemployment_15[\"VALUE\"]\n",
    "\n",
    "Canada_df = pd.DataFrame ({\"Date\": date, \"Province\":province, \"Unemployment Rate\":unemployment_rate })\n",
    "Canada_df.head()\n",
    "Canada_df.dtypes"
   ]
  },
  {
   "cell_type": "code",
   "execution_count": 6,
   "metadata": {},
   "outputs": [],
   "source": [
    "mean_unemployment = new_df.groupby(['Unemployment Rate']).mean().unstack()"
   ]
  },
  {
   "cell_type": "code",
   "execution_count": 7,
   "metadata": {
    "scrolled": true
   },
   "outputs": [
    {
     "data": {
      "image/png": "[encoded data removed]",
      "text/plain": [
       "<Figure size 432x288 with 1 Axes>"
      ]
     },
     "metadata": {
      "needs_background": "light"
     },
     "output_type": "display_data"
    }
   ],
   "source": [
    "plt.bar(new_df['Date'],new_df['Unemployment Rate'])\n",
    "plt.show()"
   ]
  },
  {
   "cell_type": "code",
   "execution_count": 8,
   "metadata": {
    "scrolled": false
   },
   "outputs": [
    {
     "data": {
      "text/html": [
       "<div>\n",
       "<style scoped>\n",
       "    .dataframe tbody tr th:only-of-type {\n",
       "        vertical-align: middle;\n",
       "    }\n",
       "\n",
       "    .dataframe tbody tr th {\n",
       "        vertical-align: top;\n",
       "    }\n",
       "\n",
       "    .dataframe thead th {\n",
       "        text-align: right;\n",
       "    }\n",
       "</style>\n",
       "<table border=\"1\" class=\"dataframe\">\n",
       "  <thead>\n",
       "    <tr style=\"text-align: right;\">\n",
       "      <th></th>\n",
       "      <th>REF_DATE</th>\n",
       "      <th>GEO</th>\n",
       "      <th>DGUID</th>\n",
       "      <th>Unemployment rate</th>\n",
       "      <th>UOM</th>\n",
       "      <th>UOM_ID</th>\n",
       "      <th>SCALAR_FACTOR</th>\n",
       "      <th>SCALAR_ID</th>\n",
       "      <th>VECTOR</th>\n",
       "      <th>COORDINATE</th>\n",
       "      <th>VALUE</th>\n",
       "      <th>STATUS</th>\n",
       "      <th>SYMBOL</th>\n",
       "      <th>TERMINATED</th>\n",
       "      <th>DECIMALS</th>\n",
       "    </tr>\n",
       "  </thead>\n",
       "  <tbody>\n",
       "    <tr>\n",
       "      <th>0</th>\n",
       "      <td>1996</td>\n",
       "      <td>Canada</td>\n",
       "      <td>00</td>\n",
       "      <td>Unemployment rate, 15 years and over</td>\n",
       "      <td>Percent</td>\n",
       "      <td>239</td>\n",
       "      <td>units</td>\n",
       "      <td>0</td>\n",
       "      <td>v4333998</td>\n",
       "      <td>1.1</td>\n",
       "      <td>9.6</td>\n",
       "      <td>NaN</td>\n",
       "      <td>NaN</td>\n",
       "      <td>NaN</td>\n",
       "      <td>1</td>\n",
       "    </tr>\n",
       "    <tr>\n",
       "      <th>1</th>\n",
       "      <td>1996</td>\n",
       "      <td>Canada</td>\n",
       "      <td>00</td>\n",
       "      <td>Unemployment rate, 15 to 24 years</td>\n",
       "      <td>Percent</td>\n",
       "      <td>239</td>\n",
       "      <td>units</td>\n",
       "      <td>0</td>\n",
       "      <td>v4333999</td>\n",
       "      <td>1.2</td>\n",
       "      <td>15.3</td>\n",
       "      <td>NaN</td>\n",
       "      <td>NaN</td>\n",
       "      <td>NaN</td>\n",
       "      <td>1</td>\n",
       "    </tr>\n",
       "  </tbody>\n",
       "</table>\n",
       "</div>"
      ],
      "text/plain": [
       "   REF_DATE     GEO DGUID                     Unemployment rate      UOM  \\\n",
       "0      1996  Canada    00  Unemployment rate, 15 years and over  Percent   \n",
       "1      1996  Canada    00     Unemployment rate, 15 to 24 years  Percent   \n",
       "\n",
       "   UOM_ID SCALAR_FACTOR  SCALAR_ID    VECTOR  COORDINATE  VALUE STATUS  \\\n",
       "0     239        units           0  v4333998         1.1    9.6    NaN   \n",
       "1     239        units           0  v4333999         1.2   15.3    NaN   \n",
       "\n",
       "   SYMBOL  TERMINATED  DECIMALS  \n",
       "0     NaN         NaN         1  \n",
       "1     NaN         NaN         1  "
      ]
     },
     "execution_count": 8,
     "metadata": {},
     "output_type": "execute_result"
    }
   ],
   "source": [
    "yearwise_canada= df.loc[(df[\"GEO\"] == \"Canada\") & (df[\"REF_DATE\"] == 1996), :]\n",
    "#yearwise_canada = pd.DataFrame ({\"Date\": date, \"Province\":province, \"Unemployment Rate\":unemployment_rate })\n",
    "yearwise_canada"
   ]
  },
  {
   "cell_type": "code",
   "execution_count": 9,
   "metadata": {},
   "outputs": [
    {
     "data": {
      "text/html": [
       "<div>\n",
       "<style scoped>\n",
       "    .dataframe tbody tr th:only-of-type {\n",
       "        vertical-align: middle;\n",
       "    }\n",
       "\n",
       "    .dataframe tbody tr th {\n",
       "        vertical-align: top;\n",
       "    }\n",
       "\n",
       "    .dataframe thead th {\n",
       "        text-align: right;\n",
       "    }\n",
       "</style>\n",
       "<table border=\"1\" class=\"dataframe\">\n",
       "  <thead>\n",
       "    <tr style=\"text-align: right;\">\n",
       "      <th></th>\n",
       "      <th>REF_DATE</th>\n",
       "      <th>GEO</th>\n",
       "      <th>DGUID</th>\n",
       "      <th>Unemployment rate</th>\n",
       "      <th>UOM</th>\n",
       "      <th>UOM_ID</th>\n",
       "      <th>SCALAR_FACTOR</th>\n",
       "      <th>SCALAR_ID</th>\n",
       "      <th>VECTOR</th>\n",
       "      <th>COORDINATE</th>\n",
       "      <th>VALUE</th>\n",
       "      <th>STATUS</th>\n",
       "      <th>SYMBOL</th>\n",
       "      <th>TERMINATED</th>\n",
       "      <th>DECIMALS</th>\n",
       "    </tr>\n",
       "  </thead>\n",
       "  <tbody>\n",
       "    <tr>\n",
       "      <th>0</th>\n",
       "      <td>1996</td>\n",
       "      <td>Canada</td>\n",
       "      <td>00</td>\n",
       "      <td>Unemployment rate, 15 years and over</td>\n",
       "      <td>Percent</td>\n",
       "      <td>239</td>\n",
       "      <td>units</td>\n",
       "      <td>0</td>\n",
       "      <td>v4333998</td>\n",
       "      <td>1.1</td>\n",
       "      <td>9.6</td>\n",
       "      <td>NaN</td>\n",
       "      <td>NaN</td>\n",
       "      <td>NaN</td>\n",
       "      <td>1</td>\n",
       "    </tr>\n",
       "    <tr>\n",
       "      <th>352</th>\n",
       "      <td>1997</td>\n",
       "      <td>Canada</td>\n",
       "      <td>00</td>\n",
       "      <td>Unemployment rate, 15 years and over</td>\n",
       "      <td>Percent</td>\n",
       "      <td>239</td>\n",
       "      <td>units</td>\n",
       "      <td>0</td>\n",
       "      <td>v4333998</td>\n",
       "      <td>1.1</td>\n",
       "      <td>9.1</td>\n",
       "      <td>NaN</td>\n",
       "      <td>NaN</td>\n",
       "      <td>NaN</td>\n",
       "      <td>1</td>\n",
       "    </tr>\n",
       "    <tr>\n",
       "      <th>704</th>\n",
       "      <td>1998</td>\n",
       "      <td>Canada</td>\n",
       "      <td>00</td>\n",
       "      <td>Unemployment rate, 15 years and over</td>\n",
       "      <td>Percent</td>\n",
       "      <td>239</td>\n",
       "      <td>units</td>\n",
       "      <td>0</td>\n",
       "      <td>v4333998</td>\n",
       "      <td>1.1</td>\n",
       "      <td>8.3</td>\n",
       "      <td>NaN</td>\n",
       "      <td>NaN</td>\n",
       "      <td>NaN</td>\n",
       "      <td>1</td>\n",
       "    </tr>\n",
       "    <tr>\n",
       "      <th>1056</th>\n",
       "      <td>1999</td>\n",
       "      <td>Canada</td>\n",
       "      <td>00</td>\n",
       "      <td>Unemployment rate, 15 years and over</td>\n",
       "      <td>Percent</td>\n",
       "      <td>239</td>\n",
       "      <td>units</td>\n",
       "      <td>0</td>\n",
       "      <td>v4333998</td>\n",
       "      <td>1.1</td>\n",
       "      <td>7.6</td>\n",
       "      <td>NaN</td>\n",
       "      <td>NaN</td>\n",
       "      <td>NaN</td>\n",
       "      <td>1</td>\n",
       "    </tr>\n",
       "    <tr>\n",
       "      <th>1408</th>\n",
       "      <td>2000</td>\n",
       "      <td>Canada</td>\n",
       "      <td>00</td>\n",
       "      <td>Unemployment rate, 15 years and over</td>\n",
       "      <td>Percent</td>\n",
       "      <td>239</td>\n",
       "      <td>units</td>\n",
       "      <td>0</td>\n",
       "      <td>v4333998</td>\n",
       "      <td>1.1</td>\n",
       "      <td>6.8</td>\n",
       "      <td>NaN</td>\n",
       "      <td>NaN</td>\n",
       "      <td>NaN</td>\n",
       "      <td>1</td>\n",
       "    </tr>\n",
       "    <tr>\n",
       "      <th>1760</th>\n",
       "      <td>2001</td>\n",
       "      <td>Canada</td>\n",
       "      <td>00</td>\n",
       "      <td>Unemployment rate, 15 years and over</td>\n",
       "      <td>Percent</td>\n",
       "      <td>239</td>\n",
       "      <td>units</td>\n",
       "      <td>0</td>\n",
       "      <td>v4333998</td>\n",
       "      <td>1.1</td>\n",
       "      <td>7.2</td>\n",
       "      <td>NaN</td>\n",
       "      <td>NaN</td>\n",
       "      <td>NaN</td>\n",
       "      <td>1</td>\n",
       "    </tr>\n",
       "  </tbody>\n",
       "</table>\n",
       "</div>"
      ],
      "text/plain": [
       "      REF_DATE     GEO DGUID                     Unemployment rate      UOM  \\\n",
       "0         1996  Canada    00  Unemployment rate, 15 years and over  Percent   \n",
       "352       1997  Canada    00  Unemployment rate, 15 years and over  Percent   \n",
       "704       1998  Canada    00  Unemployment rate, 15 years and over  Percent   \n",
       "1056      1999  Canada    00  Unemployment rate, 15 years and over  Percent   \n",
       "1408      2000  Canada    00  Unemployment rate, 15 years and over  Percent   \n",
       "1760      2001  Canada    00  Unemployment rate, 15 years and over  Percent   \n",
       "\n",
       "      UOM_ID SCALAR_FACTOR  SCALAR_ID    VECTOR  COORDINATE  VALUE STATUS  \\\n",
       "0        239        units           0  v4333998         1.1    9.6    NaN   \n",
       "352      239        units           0  v4333998         1.1    9.1    NaN   \n",
       "704      239        units           0  v4333998         1.1    8.3    NaN   \n",
       "1056     239        units           0  v4333998         1.1    7.6    NaN   \n",
       "1408     239        units           0  v4333998         1.1    6.8    NaN   \n",
       "1760     239        units           0  v4333998         1.1    7.2    NaN   \n",
       "\n",
       "      SYMBOL  TERMINATED  DECIMALS  \n",
       "0        NaN         NaN         1  \n",
       "352      NaN         NaN         1  \n",
       "704      NaN         NaN         1  \n",
       "1056     NaN         NaN         1  \n",
       "1408     NaN         NaN         1  \n",
       "1760     NaN         NaN         1  "
      ]
     },
     "execution_count": 9,
     "metadata": {},
     "output_type": "execute_result"
    }
   ],
   "source": [
    "ur15over_canada= df.loc[(df[\"GEO\"] == \"Canada\") & (df[\"Unemployment rate\"] == \"Unemployment rate, 15 years and over\"), :]\n",
    "#yearwise_canada = pd.DataFrame ({\"Date\": date, \"Province\":province, \"Unemployment Rate\":unemployment_rate })\n",
    "ur15over_canada"
   ]
  },
  {
   "cell_type": "code",
   "execution_count": 10,
   "metadata": {},
   "outputs": [
    {
     "data": {
      "image/png": "[encoded data removed]",
      "text/plain": [
       "<Figure size 432x288 with 1 Axes>"
      ]
     },
     "metadata": {
      "needs_background": "light"
     },
     "output_type": "display_data"
    }
   ],
   "source": [
    "ur15over_canada= df.loc[(df[\"GEO\"] == \"Canada\") & (df[\"Unemployment rate\"] == \"Unemployment rate, 15 years and over\"), :]\n",
    "x = ur15over_canada['REF_DATE']\n",
    "y = ur15over_canada['VALUE']\n",
    "# plot\n",
    "plt.plot(x,y)\n",
    "plt.show()"
   ]
  },
  {
   "cell_type": "code",
   "execution_count": 11,
   "metadata": {},
   "outputs": [
    {
     "data": {
      "text/html": [
       "<div>\n",
       "<style scoped>\n",
       "    .dataframe tbody tr th:only-of-type {\n",
       "        vertical-align: middle;\n",
       "    }\n",
       "\n",
       "    .dataframe tbody tr th {\n",
       "        vertical-align: top;\n",
       "    }\n",
       "\n",
       "    .dataframe thead th {\n",
       "        text-align: right;\n",
       "    }\n",
       "</style>\n",
       "<table border=\"1\" class=\"dataframe\">\n",
       "  <thead>\n",
       "    <tr style=\"text-align: right;\">\n",
       "      <th></th>\n",
       "      <th>REF_DATE</th>\n",
       "      <th>GEO</th>\n",
       "      <th>DGUID</th>\n",
       "      <th>Unemployment rate</th>\n",
       "      <th>UOM</th>\n",
       "      <th>UOM_ID</th>\n",
       "      <th>SCALAR_FACTOR</th>\n",
       "      <th>SCALAR_ID</th>\n",
       "      <th>VECTOR</th>\n",
       "      <th>COORDINATE</th>\n",
       "      <th>VALUE</th>\n",
       "      <th>STATUS</th>\n",
       "      <th>SYMBOL</th>\n",
       "      <th>TERMINATED</th>\n",
       "      <th>DECIMALS</th>\n",
       "    </tr>\n",
       "  </thead>\n",
       "  <tbody>\n",
       "    <tr>\n",
       "      <th>1</th>\n",
       "      <td>1996</td>\n",
       "      <td>Canada</td>\n",
       "      <td>00</td>\n",
       "      <td>Unemployment rate, 15 to 24 years</td>\n",
       "      <td>Percent</td>\n",
       "      <td>239</td>\n",
       "      <td>units</td>\n",
       "      <td>0</td>\n",
       "      <td>v4333999</td>\n",
       "      <td>1.2</td>\n",
       "      <td>15.3</td>\n",
       "      <td>NaN</td>\n",
       "      <td>NaN</td>\n",
       "      <td>NaN</td>\n",
       "      <td>1</td>\n",
       "    </tr>\n",
       "    <tr>\n",
       "      <th>353</th>\n",
       "      <td>1997</td>\n",
       "      <td>Canada</td>\n",
       "      <td>00</td>\n",
       "      <td>Unemployment rate, 15 to 24 years</td>\n",
       "      <td>Percent</td>\n",
       "      <td>239</td>\n",
       "      <td>units</td>\n",
       "      <td>0</td>\n",
       "      <td>v4333999</td>\n",
       "      <td>1.2</td>\n",
       "      <td>16.2</td>\n",
       "      <td>NaN</td>\n",
       "      <td>NaN</td>\n",
       "      <td>NaN</td>\n",
       "      <td>1</td>\n",
       "    </tr>\n",
       "    <tr>\n",
       "      <th>705</th>\n",
       "      <td>1998</td>\n",
       "      <td>Canada</td>\n",
       "      <td>00</td>\n",
       "      <td>Unemployment rate, 15 to 24 years</td>\n",
       "      <td>Percent</td>\n",
       "      <td>239</td>\n",
       "      <td>units</td>\n",
       "      <td>0</td>\n",
       "      <td>v4333999</td>\n",
       "      <td>1.2</td>\n",
       "      <td>15.1</td>\n",
       "      <td>NaN</td>\n",
       "      <td>NaN</td>\n",
       "      <td>NaN</td>\n",
       "      <td>1</td>\n",
       "    </tr>\n",
       "    <tr>\n",
       "      <th>1057</th>\n",
       "      <td>1999</td>\n",
       "      <td>Canada</td>\n",
       "      <td>00</td>\n",
       "      <td>Unemployment rate, 15 to 24 years</td>\n",
       "      <td>Percent</td>\n",
       "      <td>239</td>\n",
       "      <td>units</td>\n",
       "      <td>0</td>\n",
       "      <td>v4333999</td>\n",
       "      <td>1.2</td>\n",
       "      <td>14.0</td>\n",
       "      <td>NaN</td>\n",
       "      <td>NaN</td>\n",
       "      <td>NaN</td>\n",
       "      <td>1</td>\n",
       "    </tr>\n",
       "    <tr>\n",
       "      <th>1409</th>\n",
       "      <td>2000</td>\n",
       "      <td>Canada</td>\n",
       "      <td>00</td>\n",
       "      <td>Unemployment rate, 15 to 24 years</td>\n",
       "      <td>Percent</td>\n",
       "      <td>239</td>\n",
       "      <td>units</td>\n",
       "      <td>0</td>\n",
       "      <td>v4333999</td>\n",
       "      <td>1.2</td>\n",
       "      <td>12.6</td>\n",
       "      <td>NaN</td>\n",
       "      <td>NaN</td>\n",
       "      <td>NaN</td>\n",
       "      <td>1</td>\n",
       "    </tr>\n",
       "    <tr>\n",
       "      <th>1761</th>\n",
       "      <td>2001</td>\n",
       "      <td>Canada</td>\n",
       "      <td>00</td>\n",
       "      <td>Unemployment rate, 15 to 24 years</td>\n",
       "      <td>Percent</td>\n",
       "      <td>239</td>\n",
       "      <td>units</td>\n",
       "      <td>0</td>\n",
       "      <td>v4333999</td>\n",
       "      <td>1.2</td>\n",
       "      <td>12.8</td>\n",
       "      <td>NaN</td>\n",
       "      <td>NaN</td>\n",
       "      <td>NaN</td>\n",
       "      <td>1</td>\n",
       "    </tr>\n",
       "  </tbody>\n",
       "</table>\n",
       "</div>"
      ],
      "text/plain": [
       "      REF_DATE     GEO DGUID                  Unemployment rate      UOM  \\\n",
       "1         1996  Canada    00  Unemployment rate, 15 to 24 years  Percent   \n",
       "353       1997  Canada    00  Unemployment rate, 15 to 24 years  Percent   \n",
       "705       1998  Canada    00  Unemployment rate, 15 to 24 years  Percent   \n",
       "1057      1999  Canada    00  Unemployment rate, 15 to 24 years  Percent   \n",
       "1409      2000  Canada    00  Unemployment rate, 15 to 24 years  Percent   \n",
       "1761      2001  Canada    00  Unemployment rate, 15 to 24 years  Percent   \n",
       "\n",
       "      UOM_ID SCALAR_FACTOR  SCALAR_ID    VECTOR  COORDINATE  VALUE STATUS  \\\n",
       "1        239        units           0  v4333999         1.2   15.3    NaN   \n",
       "353      239        units           0  v4333999         1.2   16.2    NaN   \n",
       "705      239        units           0  v4333999         1.2   15.1    NaN   \n",
       "1057     239        units           0  v4333999         1.2   14.0    NaN   \n",
       "1409     239        units           0  v4333999         1.2   12.6    NaN   \n",
       "1761     239        units           0  v4333999         1.2   12.8    NaN   \n",
       "\n",
       "      SYMBOL  TERMINATED  DECIMALS  \n",
       "1        NaN         NaN         1  \n",
       "353      NaN         NaN         1  \n",
       "705      NaN         NaN         1  \n",
       "1057     NaN         NaN         1  \n",
       "1409     NaN         NaN         1  \n",
       "1761     NaN         NaN         1  "
      ]
     },
     "execution_count": 11,
     "metadata": {},
     "output_type": "execute_result"
    }
   ],
   "source": [
    "ur15_24_canada= df.loc[(df[\"GEO\"] == \"Canada\") & (df[\"Unemployment rate\"] == \"Unemployment rate, 15 to 24 years\"), :]\n",
    "#yearwise_canada = pd.DataFrame ({\"Date\": date, \"Province\":province, \"Unemployment Rate\":unemployment_rate })\n",
    "ur15_24_canada\n",
    "#plt.xlabel('REF_DATE')\n",
    "#plt.ylabel('Unemployment rate')\n",
    "#plt.plot()"
   ]
  },
  {
   "cell_type": "code",
   "execution_count": 12,
   "metadata": {},
   "outputs": [
    {
     "data": {
      "image/png": "[encoded data removed]",
      "text/plain": [
       "<Figure size 432x288 with 1 Axes>"
      ]
     },
     "metadata": {
      "needs_background": "light"
     },
     "output_type": "display_data"
    }
   ],
   "source": [
    "ur15_24_canada= df.loc[(df[\"GEO\"] == \"Canada\") & (df[\"Unemployment rate\"] == \"Unemployment rate, 15 years and over\"), :]\n",
    "x = ur15_24_canada['REF_DATE']\n",
    "y = ur15_24_canada['VALUE']\n",
    "# plot\n",
    "plt.bar(x,y)\n",
    "plt.show()"
   ]
  },
  {
   "cell_type": "code",
   "execution_count": 34,
   "metadata": {},
   "outputs": [],
   "source": [
    "Canada_df = Canada_df.append({\"Date\":2002, \"Province\":\"Canada\", \"Unemployment Rate\":13.6}, ignore_index=True)\n",
    "Canada_df = Canada_df.append({\"Date\":2002, \"Province\":\"Canada\", \"Unemployment Rate\":7.7}, ignore_index=True)\n",
    "Canada_df = Canada_df.append({\"Date\":2003, \"Province\":\"Canada\", \"Unemployment Rate\":13.8}, ignore_index=True)\n",
    "Canada_df = Canada_df.append({\"Date\":2003, \"Province\":\"Canada\", \"Unemployment Rate\":7.6}, ignore_index=True)"
   ]
  },
  {
   "cell_type": "code",
   "execution_count": 38,
   "metadata": {},
   "outputs": [
    {
     "data": {
      "text/html": [
       "<div>\n",
       "<style scoped>\n",
       "    .dataframe tbody tr th:only-of-type {\n",
       "        vertical-align: middle;\n",
       "    }\n",
       "\n",
       "    .dataframe tbody tr th {\n",
       "        vertical-align: top;\n",
       "    }\n",
       "\n",
       "    .dataframe thead th {\n",
       "        text-align: right;\n",
       "    }\n",
       "</style>\n",
       "<table border=\"1\" class=\"dataframe\">\n",
       "  <thead>\n",
       "    <tr style=\"text-align: right;\">\n",
       "      <th></th>\n",
       "      <th>Date</th>\n",
       "      <th>Province</th>\n",
       "      <th>Unemployment Rate</th>\n",
       "    </tr>\n",
       "  </thead>\n",
       "  <tbody>\n",
       "    <tr>\n",
       "      <th>0</th>\n",
       "      <td>1996</td>\n",
       "      <td>Canada</td>\n",
       "      <td>9.6</td>\n",
       "    </tr>\n",
       "    <tr>\n",
       "      <th>1</th>\n",
       "      <td>1997</td>\n",
       "      <td>Canada</td>\n",
       "      <td>9.1</td>\n",
       "    </tr>\n",
       "    <tr>\n",
       "      <th>2</th>\n",
       "      <td>1998</td>\n",
       "      <td>Canada</td>\n",
       "      <td>8.3</td>\n",
       "    </tr>\n",
       "    <tr>\n",
       "      <th>3</th>\n",
       "      <td>1999</td>\n",
       "      <td>Canada</td>\n",
       "      <td>7.6</td>\n",
       "    </tr>\n",
       "    <tr>\n",
       "      <th>4</th>\n",
       "      <td>2000</td>\n",
       "      <td>Canada</td>\n",
       "      <td>6.8</td>\n",
       "    </tr>\n",
       "    <tr>\n",
       "      <th>5</th>\n",
       "      <td>2001</td>\n",
       "      <td>Canada</td>\n",
       "      <td>7.2</td>\n",
       "    </tr>\n",
       "    <tr>\n",
       "      <th>6</th>\n",
       "      <td>2002</td>\n",
       "      <td>Canada</td>\n",
       "      <td>13.6</td>\n",
       "    </tr>\n",
       "    <tr>\n",
       "      <th>7</th>\n",
       "      <td>2003</td>\n",
       "      <td>Canada</td>\n",
       "      <td>13.8</td>\n",
       "    </tr>\n",
       "  </tbody>\n",
       "</table>\n",
       "</div>"
      ],
      "text/plain": [
       "   Date Province  Unemployment Rate\n",
       "0  1996   Canada                9.6\n",
       "1  1997   Canada                9.1\n",
       "2  1998   Canada                8.3\n",
       "3  1999   Canada                7.6\n",
       "4  2000   Canada                6.8\n",
       "5  2001   Canada                7.2\n",
       "6  2002   Canada               13.6\n",
       "7  2003   Canada               13.8"
      ]
     },
     "execution_count": 38,
     "metadata": {},
     "output_type": "execute_result"
    }
   ],
   "source": [
    "canada_15_over = pd.read_csv(\"Canada_df15over.csv\")\n",
    "canada_15_over = canada_15_over.drop(columns=[\"Unnamed: 0\"])\n",
    "canada_15_over"
   ]
  },
  {
   "cell_type": "code",
   "execution_count": 109,
   "metadata": {},
   "outputs": [
    {
     "data": {
      "text/plain": [
       "<BarContainer object of 8 artists>"
      ]
     },
     "execution_count": 109,
     "metadata": {},
     "output_type": "execute_result"
    },
    {
     "data": {
      "image/png": "[encoded data removed]",
      "text/plain": [
       "<Figure size 432x288 with 1 Axes>"
      ]
     },
     "metadata": {
      "needs_background": "light"
     },
     "output_type": "display_data"
    }
   ],
   "source": [
    "canada_u_m = pd.merge(canada_15_over, df_mig_small, on=\"Date\", how=\"left\")\n",
    "canada_u_m\n",
    "plt.scatter(canada_u_m[\"Date\"], canada_u_m[\"Unemployment Rate\"], color=\"r\")\n",
    "plt.bar(canada_u_m[\"Date\"], canada_u_m[\"National Net Migration\"]/10000, alpha=0.5)"
   ]
  },
  {
   "cell_type": "code",
   "execution_count": 124,
   "metadata": {},
   "outputs": [],
   "source": [
    "canada_u_m_nodates = canada_u_m.drop(columns=[\"Date\"])\n",
    "canada_u_m_nodates = canada_u_m_nodates.drop(columns=[\"Province\"])\n",
    "canada_u_m_nodates[\"National Net Migration\"] = canada_u_m_nodates[\"National Net Migration\"]/10000"
   ]
  },
  {
   "cell_type": "code",
   "execution_count": 122,
   "metadata": {
    "scrolled": false
   },
   "outputs": [
    {
     "data": {
      "image/png": "[encoded data removed]",
      "text/plain": [
       "<Figure size 432x288 with 1 Axes>"
      ]
     },
     "metadata": {
      "needs_background": "light"
     },
     "output_type": "display_data"
    }
   ],
   "source": [
    "canada_u_m_nodates.plot(kind=\"bar\")\n",
    "plt.xlabel('Year')\n",
    "plt.ylabel('Value')\n",
    "plt.title('National Net Migration VS Unemployment Rate')\n",
    "x_ticks = [\"1996\", \"1997\", \"1998\", \"1999\", \"2000\", \"2001\", \"2002\", \"2003\"]\n",
    "plt.xticks(np.arange(8), x_ticks)\n",
    "plt.savefig(\"Unemployment_Migration.png\", bbox_inches=\"tight\")"
   ]
  },
  {
   "cell_type": "code",
   "execution_count": null,
   "metadata": {},
   "outputs": [],
   "source": []
  }
 ],
 "metadata": {
  "kernelspec": {
   "display_name": "Python 3",
   "language": "python",
   "name": "python3"
  },
  "language_info": {
   "codemirror_mode": {
    "name": "ipython",
    "version": 3
   },
   "file_extension": ".py",
   "mimetype": "text/x-python",
   "name": "python",
   "nbconvert_exporter": "python",
   "pygments_lexer": "ipython3",
   "version": "3.7.0"
  }
 },
 "nbformat": 4,
 "nbformat_minor": 2
}
