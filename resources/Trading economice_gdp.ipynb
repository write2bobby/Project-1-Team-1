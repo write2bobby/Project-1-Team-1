{
 "cells": [
  {
   "cell_type": "code",
   "execution_count": 12,
   "metadata": {},
   "outputs": [
    {
     "name": "stdout",
     "output_type": "stream",
     "text": [
      "Requirement already satisfied: tradingeconomics in c:\\users\\hchan\\anaconda3\\lib\\site-packages (0.2.932)\n",
      "Requirement already satisfied: websocket-client in c:\\users\\hchan\\anaconda3\\lib\\site-packages (from tradingeconomics) (0.54.0)\n",
      "Requirement already satisfied: pandas in c:\\users\\hchan\\anaconda3\\lib\\site-packages (from tradingeconomics) (0.23.4)\n",
      "Requirement already satisfied: six in c:\\users\\hchan\\anaconda3\\lib\\site-packages (from websocket-client->tradingeconomics) (1.11.0)\n",
      "Requirement already satisfied: python-dateutil>=2.5.0 in c:\\users\\hchan\\anaconda3\\lib\\site-packages (from pandas->tradingeconomics) (2.7.3)\n",
      "Requirement already satisfied: pytz>=2011k in c:\\users\\hchan\\anaconda3\\lib\\site-packages (from pandas->tradingeconomics) (2018.5)\n",
      "Requirement already satisfied: numpy>=1.9.0 in c:\\users\\hchan\\anaconda3\\lib\\site-packages (from pandas->tradingeconomics) (1.15.1)\n"
     ]
    },
    {
     "name": "stderr",
     "output_type": "stream",
     "text": [
      "twisted 18.7.0 requires PyHamcrest>=1.9.0, which is not installed.\n",
      "You are using pip version 10.0.1, however version 18.1 is available.\n",
      "You should consider upgrading via the 'python -m pip install --upgrade pip' command.\n"
     ]
    }
   ],
   "source": [
    "\n",
    "import sys\n",
    "!{sys.executable} -m pip install tradingeconomics\n",
    "import pandas as pd\n",
    "import requests\n",
    "from pprint import pprint\n",
    "import numpy as np\n",
    "import tradingeconomics as te\n",
    "\n",
    "\n"
   ]
  },
  {
   "cell_type": "code",
   "execution_count": 13,
   "metadata": {},
   "outputs": [
    {
     "data": {
      "text/plain": [
       "'You are logged in as a guest:guest'"
      ]
     },
     "execution_count": 13,
     "metadata": {},
     "output_type": "execute_result"
    }
   ],
   "source": [
    "te.login()"
   ]
  },
  {
   "cell_type": "code",
   "execution_count": 16,
   "metadata": {},
   "outputs": [
    {
     "name": "stdout",
     "output_type": "stream",
     "text": [
      "https://api.tradingeconomics.com/historical/country/canada/indicator/cpi/1946-01-01?c=guest:guest\n"
     ]
    },
    {
     "data": {
      "text/html": [
       "<div>\n",
       "<style scoped>\n",
       "    .dataframe tbody tr th:only-of-type {\n",
       "        vertical-align: middle;\n",
       "    }\n",
       "\n",
       "    .dataframe tbody tr th {\n",
       "        vertical-align: top;\n",
       "    }\n",
       "\n",
       "    .dataframe thead th {\n",
       "        text-align: right;\n",
       "    }\n",
       "</style>\n",
       "<table border=\"1\" class=\"dataframe\">\n",
       "  <thead>\n",
       "    <tr style=\"text-align: right;\">\n",
       "      <th></th>\n",
       "      <th>Year</th>\n",
       "      <th>GDP</th>\n",
       "    </tr>\n",
       "  </thead>\n",
       "  <tbody>\n",
       "    <tr>\n",
       "      <th>2008-12-31</th>\n",
       "      <td>2008-12-31</td>\n",
       "      <td>1549.13</td>\n",
       "    </tr>\n",
       "    <tr>\n",
       "      <th>2009-12-31</th>\n",
       "      <td>2009-12-31</td>\n",
       "      <td>1371.15</td>\n",
       "    </tr>\n",
       "    <tr>\n",
       "      <th>2010-12-31</th>\n",
       "      <td>2010-12-31</td>\n",
       "      <td>1613.46</td>\n",
       "    </tr>\n",
       "    <tr>\n",
       "      <th>2011-12-31</th>\n",
       "      <td>2011-12-31</td>\n",
       "      <td>1788.65</td>\n",
       "    </tr>\n",
       "    <tr>\n",
       "      <th>2012-12-31</th>\n",
       "      <td>2012-12-31</td>\n",
       "      <td>1824.29</td>\n",
       "    </tr>\n",
       "    <tr>\n",
       "      <th>2013-12-31</th>\n",
       "      <td>2013-12-31</td>\n",
       "      <td>1842.63</td>\n",
       "    </tr>\n",
       "    <tr>\n",
       "      <th>2014-12-31</th>\n",
       "      <td>2014-12-31</td>\n",
       "      <td>1799.27</td>\n",
       "    </tr>\n",
       "    <tr>\n",
       "      <th>2015-12-31</th>\n",
       "      <td>2015-12-31</td>\n",
       "      <td>1559.62</td>\n",
       "    </tr>\n",
       "    <tr>\n",
       "      <th>2016-12-31</th>\n",
       "      <td>2016-12-31</td>\n",
       "      <td>1535.77</td>\n",
       "    </tr>\n",
       "    <tr>\n",
       "      <th>2017-12-31</th>\n",
       "      <td>2017-12-31</td>\n",
       "      <td>1653.04</td>\n",
       "    </tr>\n",
       "  </tbody>\n",
       "</table>\n",
       "</div>"
      ],
      "text/plain": [
       "                 Year      GDP\n",
       "2008-12-31 2008-12-31  1549.13\n",
       "2009-12-31 2009-12-31  1371.15\n",
       "2010-12-31 2010-12-31  1613.46\n",
       "2011-12-31 2011-12-31  1788.65\n",
       "2012-12-31 2012-12-31  1824.29\n",
       "2013-12-31 2013-12-31  1842.63\n",
       "2014-12-31 2014-12-31  1799.27\n",
       "2015-12-31 2015-12-31  1559.62\n",
       "2016-12-31 2016-12-31  1535.77\n",
       "2017-12-31 2017-12-31  1653.04"
      ]
     },
     "execution_count": 16,
     "metadata": {},
     "output_type": "execute_result"
    }
   ],
   "source": [
    "gdp_df = te.getHistoricalData(country='canada', indicator='cpi', initDate='1946-01-01')\n",
    "new_gdp_df = pd.DataFrame({\"Year\":cpi_df.index,\"GDP\": cpi_df[0]})\n",
    "new_gdp_df"
   ]
  },
  {
   "cell_type": "code",
   "execution_count": 17,
   "metadata": {},
   "outputs": [],
   "source": [
    "gdp_df.to_csv('newgdp.csv',index=False, header=True)"
   ]
  },
  {
   "cell_type": "code",
   "execution_count": null,
   "metadata": {},
   "outputs": [],
   "source": []
  }
 ],
 "metadata": {
  "kernelspec": {
   "display_name": "Python 3",
   "language": "python",
   "name": "python3"
  },
  "language_info": {
   "codemirror_mode": {
    "name": "ipython",
    "version": 3
   },
   "file_extension": ".py",
   "mimetype": "text/x-python",
   "name": "python",
   "nbconvert_exporter": "python",
   "pygments_lexer": "ipython3",
   "version": "3.6.5"
  }
 },
 "nbformat": 4,
 "nbformat_minor": 2
}
